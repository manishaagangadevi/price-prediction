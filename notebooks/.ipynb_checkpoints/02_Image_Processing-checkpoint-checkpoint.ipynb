{
 "cells": [
  {
   "cell_type": "code",
   "execution_count": null,
   "id": "49798845-d4b5-4ba8-b752-3e34c84f3892",
   "metadata": {},
   "outputs": [
    {
     "name": "stdout",
     "output_type": "stream",
     "text": [
      "Step 1: Imports are complete.\n",
      "Step 2: Successfully imported the download_images function from utils.py.\n",
      "Step 3: Attempting to load train.csv...\n",
      "Step 4: Successfully loaded train.csv.\n",
      "Step 5: Prepared the list of images to download.\n",
      "Step 6: Starting the download process now...\n"
     ]
    },
    {
     "name": "stderr",
     "output_type": "stream",
     "text": [
      "Exception in thread Thread-3 (_handle_workers):\n",
      "Traceback (most recent call last):\n",
      "  File \"C:\\Program Files\\Python310\\lib\\threading.py\", line 1009, in _bootstrap_inner\n",
      "    self.run()\n",
      "  File \"C:\\Users\\manis\\OneDrive\\Desktop\\amazon-price-prediction\\venv\\lib\\site-packages\\ipykernel\\ipkernel.py\", line 772, in run_closure\n",
      "    _threading_Thread_run(self)\n",
      "  File \"C:\\Program Files\\Python310\\lib\\threading.py\", line 946, in run\n",
      "    self._target(*self._args, **self._kwargs)\n",
      "  File \"C:\\Program Files\\Python310\\lib\\multiprocessing\\pool.py\", line 519, in _handle_workers\n",
      "    cls._wait_for_updates(current_sentinels, change_notifier)\n",
      "  File \"C:\\Program Files\\Python310\\lib\\multiprocessing\\pool.py\", line 499, in _wait_for_updates\n",
      "    wait(sentinels, timeout=timeout)\n",
      "  File \"C:\\Program Files\\Python310\\lib\\multiprocessing\\connection.py\", line 884, in wait\n",
      "    ready_handles = _exhaustive_wait(waithandle_to_obj.keys(), timeout)\n",
      "  File \"C:\\Program Files\\Python310\\lib\\multiprocessing\\connection.py\", line 816, in _exhaustive_wait\n",
      "    res = _winapi.WaitForMultipleObjects(L, False, timeout)\n",
      "ValueError: need at most 63 handles, got a sequence of length 102\n",
      "100%|████████████████████████████████████████████████████████████████████████████████████████████████████████████████████████████████████████████| 10/10 [00:10<00:00,  1.09s/it]\n"
     ]
    }
   ],
   "source": [
    "import pandas as pd\n",
    "import sys\n",
    "import os\n",
    "\n",
    "print(\"Step 1: Imports are complete.\")\n",
    "\n",
    "# This line adds the 'src' folder to Python's path\n",
    "sys.path.append('../src')\n",
    "from utils import download_images\n",
    "\n",
    "print(\"Step 2: Successfully imported the download_images function from utils.py.\")\n",
    "\n",
    "# --- Configuration ---\n",
    "NUM_IMAGES_TO_DOWNLOAD = 10 \n",
    "IMAGE_DIR = '../data/images/'\n",
    "\n",
    "# Load the training data to get the image URLs\n",
    "print(\"Step 3: Attempting to load train.csv...\")\n",
    "train_df = pd.read_csv('../data/train.csv')\n",
    "print(\"Step 4: Successfully loaded train.csv.\")\n",
    "\n",
    "# Get the links and IDs for the first 10 images\n",
    "image_links = train_df['image_link'].tolist()[:NUM_IMAGES_TO_DOWNLOAD]\n",
    "image_ids = train_df['sample_id'].tolist()[:NUM_IMAGES_TO_DOWNLOAD]\n",
    "images_to_download = list(zip(image_links, image_ids))\n",
    "\n",
    "print(\"Step 5: Prepared the list of images to download.\")\n",
    "\n",
    "# --- Download the Images ---\n",
    "print(\"Step 6: Starting the download process now...\")\n",
    "\n",
    "download_images(images_to_download, IMAGE_DIR)\n",
    "\n",
    "print(\"\\n✅ Download complete.\")"
   ]
  },
  {
   "cell_type": "code",
   "execution_count": null,
   "id": "6434149c-0ccb-465f-8a71-bccd0e04690a",
   "metadata": {},
   "outputs": [],
   "source": [
    "\n",
    "print(\"Starting Step 2: Finding and loading the model...\")\n",
    "weights_path = '../data/models/resnet50_weights_tf_dim_ordering_tf_kernels_notop.h5'\n",
    "\n",
    "if os.path.exists(weights_path):\n",
    "    print(\"Found local model file. Loading...\")\n",
    "    model = ResNet50(weights=weights_path, include_top=False, pooling='avg')\n",
    "    print(\"✅ Step 2 complete. Model loaded successfully.\")\n",
    "else:\n",
    "    print(\"❌ ERROR: Could not find the model file. Please check the location.\")"
   ]
  },
  {
   "cell_type": "code",
   "execution_count": 3,
   "id": "0039b0a0-1f2f-445e-bc77-ba170d82f3fc",
   "metadata": {},
   "outputs": [
    {
     "name": "stdout",
     "output_type": "stream",
     "text": [
      "Starting Step 3: Preparing and analyzing the image...\n"
     ]
    },
    {
     "ename": "NameError",
     "evalue": "name 'image_ids' is not defined",
     "output_type": "error",
     "traceback": [
      "\u001b[1;31m---------------------------------------------------------------------------\u001b[0m",
      "\u001b[1;31mNameError\u001b[0m                                 Traceback (most recent call last)",
      "Cell \u001b[1;32mIn[3], line 2\u001b[0m\n\u001b[0;32m      1\u001b[0m \u001b[38;5;28mprint\u001b[39m(\u001b[38;5;124m\"\u001b[39m\u001b[38;5;124mStarting Step 3: Preparing and analyzing the image...\u001b[39m\u001b[38;5;124m\"\u001b[39m)\n\u001b[1;32m----> 2\u001b[0m first_image_id \u001b[38;5;241m=\u001b[39m \u001b[43mimage_ids\u001b[49m[\u001b[38;5;241m0\u001b[39m]\n\u001b[0;32m      3\u001b[0m img_path \u001b[38;5;241m=\u001b[39m os\u001b[38;5;241m.\u001b[39mpath\u001b[38;5;241m.\u001b[39mjoin(IMAGE_DIR, \u001b[38;5;124mf\u001b[39m\u001b[38;5;124m'\u001b[39m\u001b[38;5;132;01m{\u001b[39;00mfirst_image_id\u001b[38;5;132;01m}\u001b[39;00m\u001b[38;5;124m.jpg\u001b[39m\u001b[38;5;124m'\u001b[39m)\n\u001b[0;32m      4\u001b[0m img \u001b[38;5;241m=\u001b[39m image\u001b[38;5;241m.\u001b[39mload_img(img_path, target_size\u001b[38;5;241m=\u001b[39m(\u001b[38;5;241m224\u001b[39m, \u001b[38;5;241m224\u001b[39m))\n",
      "\u001b[1;31mNameError\u001b[0m: name 'image_ids' is not defined"
     ]
    }
   ],
   "source": [
    "print(\"Starting Step 3: Preparing and analyzing the image...\")\n",
    "first_image_id = image_ids[0]\n",
    "img_path = os.path.join(IMAGE_DIR, f'{first_image_id}.jpg')\n",
    "img = image.load_img(img_path, target_size=(224, 224))\n",
    "img_array = image.img_to_array(img)\n",
    "img_batch = np.expand_dims(img_array, axis=0)\n",
    "img_preprocessed = preprocess_input(img_batch)\n",
    "\n",
    "print(\"Extracting features...\")\n",
    "image_features = model.predict(img_preprocessed)\n",
    "\n",
    "print(\"\\n✅ Step 3 complete! Feature extraction done.\")\n",
    "print(\"Shape of the feature vector:\", image_features.shape)"
   ]
  },
  {
   "cell_type": "code",
   "execution_count": null,
   "id": "89e865b0-b661-4474-bb7d-7d82e698bafc",
   "metadata": {},
   "outputs": [],
   "source": []
  }
 ],
 "metadata": {
  "kernelspec": {
   "display_name": "Python 3 (ipykernel)",
   "language": "python",
   "name": "python3"
  },
  "language_info": {
   "codemirror_mode": {
    "name": "ipython",
    "version": 3
   },
   "file_extension": ".py",
   "mimetype": "text/x-python",
   "name": "python",
   "nbconvert_exporter": "python",
   "pygments_lexer": "ipython3",
   "version": "3.10.0"
  }
 },
 "nbformat": 4,
 "nbformat_minor": 5
}
